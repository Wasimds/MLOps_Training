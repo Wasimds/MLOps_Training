{
  "nbformat": 4,
  "nbformat_minor": 0,
  "metadata": {
    "colab": {
      "name": "Copy of MLOps_Evidently_Bicycle_Demand_Monitoring.ipynb",
      "provenance": [],
      "collapsed_sections": [],
      "authorship_tag": "ABX9TyNnaBygskEf0Q3uxc5kolgJ",
      "include_colab_link": true
    },
    "kernelspec": {
      "name": "python3",
      "display_name": "Python 3"
    },
    "language_info": {
      "name": "python"
    }
  },
  "cells": [
    {
      "cell_type": "markdown",
      "metadata": {
        "id": "view-in-github",
        "colab_type": "text"
      },
      "source": [
        "<a href=\"https://colab.research.google.com/github/Wasimds/MLOps_Training/blob/main/MLOps_Evidently_MLFlow_Final_Bicycle_Demand_Monitoring.ipynb\" target=\"_parent\"><img src=\"https://colab.research.google.com/assets/colab-badge.svg\" alt=\"Open In Colab\"/></a>"
      ]
    },
    {
      "cell_type": "markdown",
      "source": [
        "# **Bike Rental Prediction and MLOps Demo**"
      ],
      "metadata": {
        "id": "aI0clrfDua0Z"
      }
    },
    {
      "cell_type": "markdown",
      "source": [
        "### **Dataset Details**\n",
        "\n",
        "The data set under study is related to 2-year Hourly usage log of a bike\n",
        "sharing system namely Captial Bike Sharing (CBS) at Washington, D.C., USA. There are several reasons for this\n",
        "data set to be a good fit for learning goals. **Firstly**, it includes at least\n",
        "two full years of data and seems to be quite \n",
        "suitable for supervised and semi-supervised learning. **Secondly**, datasets contains external factors (ofcourse historical) corresponding environmental values such as weather conditions, weekdays and official holidays of Washington D.C. \n",
        "Please refer below section for detailed data dictionary. "
      ],
      "metadata": {
        "id": "Bt1LRc7Euas2"
      }
    },
    {
      "cell_type": "markdown",
      "source": [
        "\n",
        "\n",
        "1.   dteday    : date of observation\n",
        "2.   instance  : record index\n",
        "3.   season    : season (1:Spring, 2:Summer, 3:Fall, 4:Winter)\n",
        "4.   yr \t\t  : year of observation (0: 2011, 1:2012)\n",
        "5.   mnth\t  : 1 = January, ...., 12 = December\n",
        "6.   hr \t\t  : hour (0 to 23)\n",
        "7.   holiday   : whether the day was a holiday (1 = Yes, 0 = No)\n",
        "8.   weekday\t  : 0 = Sunday, .., 6 = Saturday\n",
        "9.   workingday: whether the day was a work day (i.e., not a weekend or holiday) (1 = Yes; 0 = No)\n",
        "10.   weathersit: type of weather\n",
        "*   1 = clear, few clouds, partly cloudy\n",
        "*   2 = mist & cloudy, mist & broken clouds, mist & few clouds, mist\n",
        "*   3 = light snow, light rain & Thunderstorm & scattered clouds, light rain & scattered clouds\n",
        "*   4 = heavy rain & ice pellets & thunderstorm & mist, snow & fog\n",
        "11.   temp\t  : Normalized temperature in Celsius. The values are divided to 41 (max)\n",
        "12.   tempfeel  : Normalized feeling temperature in Celsius. The values are divided to 50 (max)\n",
        "13.   hum\t\t  : relative humidity in percent\n",
        "14.   windspeed : windspeed in km/hour\n",
        "15.   casual    : number of casual bike users\n",
        "16.   registered: number of registered bike users\n",
        "17.   cnt       : count of total rental bikes including both casual and registered"
      ],
      "metadata": {
        "id": "L8G9DrU42fL3"
      }
    },
    {
      "cell_type": "code",
      "source": [
        "from google.colab import drive\n",
        "drive.mount('/content/drive')"
      ],
      "metadata": {
        "colab": {
          "base_uri": "https://localhost:8080/"
        },
        "id": "To0cCX7sqEHs",
        "outputId": "a352109c-999d-45e4-e7e4-9eb1c8b6bc14"
      },
      "execution_count": 1,
      "outputs": [
        {
          "output_type": "stream",
          "name": "stdout",
          "text": [
            "Mounted at /content/drive\n"
          ]
        }
      ]
    },
    {
      "cell_type": "code",
      "source": [
        "# from google.colab import files\n",
        "# uploaded = files.upload()\n",
        "# for fn in uploaded.keys():\n",
        "#   print('User uploaded file \"{name}\" with length {length} bytes'.format(\n",
        "#       name=fn, length=len(uploaded[fn])))"
      ],
      "metadata": {
        "colab": {
          "resources": {
            "http://localhost:8080/nbextensions/google.colab/files.js": {
              "data": "Ly8gQ29weXJpZ2h0IDIwMTcgR29vZ2xlIExMQwovLwovLyBMaWNlbnNlZCB1bmRlciB0aGUgQXBhY2hlIExpY2Vuc2UsIFZlcnNpb24gMi4wICh0aGUgIkxpY2Vuc2UiKTsKLy8geW91IG1heSBub3QgdXNlIHRoaXMgZmlsZSBleGNlcHQgaW4gY29tcGxpYW5jZSB3aXRoIHRoZSBMaWNlbnNlLgovLyBZb3UgbWF5IG9idGFpbiBhIGNvcHkgb2YgdGhlIExpY2Vuc2UgYXQKLy8KLy8gICAgICBodHRwOi8vd3d3LmFwYWNoZS5vcmcvbGljZW5zZXMvTElDRU5TRS0yLjAKLy8KLy8gVW5sZXNzIHJlcXVpcmVkIGJ5IGFwcGxpY2FibGUgbGF3IG9yIGFncmVlZCB0byBpbiB3cml0aW5nLCBzb2Z0d2FyZQovLyBkaXN0cmlidXRlZCB1bmRlciB0aGUgTGljZW5zZSBpcyBkaXN0cmlidXRlZCBvbiBhbiAiQVMgSVMiIEJBU0lTLAovLyBXSVRIT1VUIFdBUlJBTlRJRVMgT1IgQ09ORElUSU9OUyBPRiBBTlkgS0lORCwgZWl0aGVyIGV4cHJlc3Mgb3IgaW1wbGllZC4KLy8gU2VlIHRoZSBMaWNlbnNlIGZvciB0aGUgc3BlY2lmaWMgbGFuZ3VhZ2UgZ292ZXJuaW5nIHBlcm1pc3Npb25zIGFuZAovLyBsaW1pdGF0aW9ucyB1bmRlciB0aGUgTGljZW5zZS4KCi8qKgogKiBAZmlsZW92ZXJ2aWV3IEhlbHBlcnMgZm9yIGdvb2dsZS5jb2xhYiBQeXRob24gbW9kdWxlLgogKi8KKGZ1bmN0aW9uKHNjb3BlKSB7CmZ1bmN0aW9uIHNwYW4odGV4dCwgc3R5bGVBdHRyaWJ1dGVzID0ge30pIHsKICBjb25zdCBlbGVtZW50ID0gZG9jdW1lbnQuY3JlYXRlRWxlbWVudCgnc3BhbicpOwogIGVsZW1lbnQudGV4dENvbnRlbnQgPSB0ZXh0OwogIGZvciAoY29uc3Qga2V5IG9mIE9iamVjdC5rZXlzKHN0eWxlQXR0cmlidXRlcykpIHsKICAgIGVsZW1lbnQuc3R5bGVba2V5XSA9IHN0eWxlQXR0cmlidXRlc1trZXldOwogIH0KICByZXR1cm4gZWxlbWVudDsKfQoKLy8gTWF4IG51bWJlciBvZiBieXRlcyB3aGljaCB3aWxsIGJlIHVwbG9hZGVkIGF0IGEgdGltZS4KY29uc3QgTUFYX1BBWUxPQURfU0laRSA9IDEwMCAqIDEwMjQ7CgpmdW5jdGlvbiBfdXBsb2FkRmlsZXMoaW5wdXRJZCwgb3V0cHV0SWQpIHsKICBjb25zdCBzdGVwcyA9IHVwbG9hZEZpbGVzU3RlcChpbnB1dElkLCBvdXRwdXRJZCk7CiAgY29uc3Qgb3V0cHV0RWxlbWVudCA9IGRvY3VtZW50LmdldEVsZW1lbnRCeUlkKG91dHB1dElkKTsKICAvLyBDYWNoZSBzdGVwcyBvbiB0aGUgb3V0cHV0RWxlbWVudCB0byBtYWtlIGl0IGF2YWlsYWJsZSBmb3IgdGhlIG5leHQgY2FsbAogIC8vIHRvIHVwbG9hZEZpbGVzQ29udGludWUgZnJvbSBQeXRob24uCiAgb3V0cHV0RWxlbWVudC5zdGVwcyA9IHN0ZXBzOwoKICByZXR1cm4gX3VwbG9hZEZpbGVzQ29udGludWUob3V0cHV0SWQpOwp9CgovLyBUaGlzIGlzIHJvdWdobHkgYW4gYXN5bmMgZ2VuZXJhdG9yIChub3Qgc3VwcG9ydGVkIGluIHRoZSBicm93c2VyIHlldCksCi8vIHdoZXJlIHRoZXJlIGFyZSBtdWx0aXBsZSBhc3luY2hyb25vdXMgc3RlcHMgYW5kIHRoZSBQeXRob24gc2lkZSBpcyBnb2luZwovLyB0byBwb2xsIGZvciBjb21wbGV0aW9uIG9mIGVhY2ggc3RlcC4KLy8gVGhpcyB1c2VzIGEgUHJvbWlzZSB0byBibG9jayB0aGUgcHl0aG9uIHNpZGUgb24gY29tcGxldGlvbiBvZiBlYWNoIHN0ZXAsCi8vIHRoZW4gcGFzc2VzIHRoZSByZXN1bHQgb2YgdGhlIHByZXZpb3VzIHN0ZXAgYXMgdGhlIGlucHV0IHRvIHRoZSBuZXh0IHN0ZXAuCmZ1bmN0aW9uIF91cGxvYWRGaWxlc0NvbnRpbnVlKG91dHB1dElkKSB7CiAgY29uc3Qgb3V0cHV0RWxlbWVudCA9IGRvY3VtZW50LmdldEVsZW1lbnRCeUlkKG91dHB1dElkKTsKICBjb25zdCBzdGVwcyA9IG91dHB1dEVsZW1lbnQuc3RlcHM7CgogIGNvbnN0IG5leHQgPSBzdGVwcy5uZXh0KG91dHB1dEVsZW1lbnQubGFzdFByb21pc2VWYWx1ZSk7CiAgcmV0dXJuIFByb21pc2UucmVzb2x2ZShuZXh0LnZhbHVlLnByb21pc2UpLnRoZW4oKHZhbHVlKSA9PiB7CiAgICAvLyBDYWNoZSB0aGUgbGFzdCBwcm9taXNlIHZhbHVlIHRvIG1ha2UgaXQgYXZhaWxhYmxlIHRvIHRoZSBuZXh0CiAgICAvLyBzdGVwIG9mIHRoZSBnZW5lcmF0b3IuCiAgICBvdXRwdXRFbGVtZW50Lmxhc3RQcm9taXNlVmFsdWUgPSB2YWx1ZTsKICAgIHJldHVybiBuZXh0LnZhbHVlLnJlc3BvbnNlOwogIH0pOwp9CgovKioKICogR2VuZXJhdG9yIGZ1bmN0aW9uIHdoaWNoIGlzIGNhbGxlZCBiZXR3ZWVuIGVhY2ggYXN5bmMgc3RlcCBvZiB0aGUgdXBsb2FkCiAqIHByb2Nlc3MuCiAqIEBwYXJhbSB7c3RyaW5nfSBpbnB1dElkIEVsZW1lbnQgSUQgb2YgdGhlIGlucHV0IGZpbGUgcGlja2VyIGVsZW1lbnQuCiAqIEBwYXJhbSB7c3RyaW5nfSBvdXRwdXRJZCBFbGVtZW50IElEIG9mIHRoZSBvdXRwdXQgZGlzcGxheS4KICogQHJldHVybiB7IUl0ZXJhYmxlPCFPYmplY3Q+fSBJdGVyYWJsZSBvZiBuZXh0IHN0ZXBzLgogKi8KZnVuY3Rpb24qIHVwbG9hZEZpbGVzU3RlcChpbnB1dElkLCBvdXRwdXRJZCkgewogIGNvbnN0IGlucHV0RWxlbWVudCA9IGRvY3VtZW50LmdldEVsZW1lbnRCeUlkKGlucHV0SWQpOwogIGlucHV0RWxlbWVudC5kaXNhYmxlZCA9IGZhbHNlOwoKICBjb25zdCBvdXRwdXRFbGVtZW50ID0gZG9jdW1lbnQuZ2V0RWxlbWVudEJ5SWQob3V0cHV0SWQpOwogIG91dHB1dEVsZW1lbnQuaW5uZXJIVE1MID0gJyc7CgogIGNvbnN0IHBpY2tlZFByb21pc2UgPSBuZXcgUHJvbWlzZSgocmVzb2x2ZSkgPT4gewogICAgaW5wdXRFbGVtZW50LmFkZEV2ZW50TGlzdGVuZXIoJ2NoYW5nZScsIChlKSA9PiB7CiAgICAgIHJlc29sdmUoZS50YXJnZXQuZmlsZXMpOwogICAgfSk7CiAgfSk7CgogIGNvbnN0IGNhbmNlbCA9IGRvY3VtZW50LmNyZWF0ZUVsZW1lbnQoJ2J1dHRvbicpOwogIGlucHV0RWxlbWVudC5wYXJlbnRFbGVtZW50LmFwcGVuZENoaWxkKGNhbmNlbCk7CiAgY2FuY2VsLnRleHRDb250ZW50ID0gJ0NhbmNlbCB1cGxvYWQnOwogIGNvbnN0IGNhbmNlbFByb21pc2UgPSBuZXcgUHJvbWlzZSgocmVzb2x2ZSkgPT4gewogICAgY2FuY2VsLm9uY2xpY2sgPSAoKSA9PiB7CiAgICAgIHJlc29sdmUobnVsbCk7CiAgICB9OwogIH0pOwoKICAvLyBXYWl0IGZvciB0aGUgdXNlciB0byBwaWNrIHRoZSBmaWxlcy4KICBjb25zdCBmaWxlcyA9IHlpZWxkIHsKICAgIHByb21pc2U6IFByb21pc2UucmFjZShbcGlja2VkUHJvbWlzZSwgY2FuY2VsUHJvbWlzZV0pLAogICAgcmVzcG9uc2U6IHsKICAgICAgYWN0aW9uOiAnc3RhcnRpbmcnLAogICAgfQogIH07CgogIGNhbmNlbC5yZW1vdmUoKTsKCiAgLy8gRGlzYWJsZSB0aGUgaW5wdXQgZWxlbWVudCBzaW5jZSBmdXJ0aGVyIHBpY2tzIGFyZSBub3QgYWxsb3dlZC4KICBpbnB1dEVsZW1lbnQuZGlzYWJsZWQgPSB0cnVlOwoKICBpZiAoIWZpbGVzKSB7CiAgICByZXR1cm4gewogICAgICByZXNwb25zZTogewogICAgICAgIGFjdGlvbjogJ2NvbXBsZXRlJywKICAgICAgfQogICAgfTsKICB9CgogIGZvciAoY29uc3QgZmlsZSBvZiBmaWxlcykgewogICAgY29uc3QgbGkgPSBkb2N1bWVudC5jcmVhdGVFbGVtZW50KCdsaScpOwogICAgbGkuYXBwZW5kKHNwYW4oZmlsZS5uYW1lLCB7Zm9udFdlaWdodDogJ2JvbGQnfSkpOwogICAgbGkuYXBwZW5kKHNwYW4oCiAgICAgICAgYCgke2ZpbGUudHlwZSB8fCAnbi9hJ30pIC0gJHtmaWxlLnNpemV9IGJ5dGVzLCBgICsKICAgICAgICBgbGFzdCBtb2RpZmllZDogJHsKICAgICAgICAgICAgZmlsZS5sYXN0TW9kaWZpZWREYXRlID8gZmlsZS5sYXN0TW9kaWZpZWREYXRlLnRvTG9jYWxlRGF0ZVN0cmluZygpIDoKICAgICAgICAgICAgICAgICAgICAgICAgICAgICAgICAgICAgJ24vYSd9IC0gYCkpOwogICAgY29uc3QgcGVyY2VudCA9IHNwYW4oJzAlIGRvbmUnKTsKICAgIGxpLmFwcGVuZENoaWxkKHBlcmNlbnQpOwoKICAgIG91dHB1dEVsZW1lbnQuYXBwZW5kQ2hpbGQobGkpOwoKICAgIGNvbnN0IGZpbGVEYXRhUHJvbWlzZSA9IG5ldyBQcm9taXNlKChyZXNvbHZlKSA9PiB7CiAgICAgIGNvbnN0IHJlYWRlciA9IG5ldyBGaWxlUmVhZGVyKCk7CiAgICAgIHJlYWRlci5vbmxvYWQgPSAoZSkgPT4gewogICAgICAgIHJlc29sdmUoZS50YXJnZXQucmVzdWx0KTsKICAgICAgfTsKICAgICAgcmVhZGVyLnJlYWRBc0FycmF5QnVmZmVyKGZpbGUpOwogICAgfSk7CiAgICAvLyBXYWl0IGZvciB0aGUgZGF0YSB0byBiZSByZWFkeS4KICAgIGxldCBmaWxlRGF0YSA9IHlpZWxkIHsKICAgICAgcHJvbWlzZTogZmlsZURhdGFQcm9taXNlLAogICAgICByZXNwb25zZTogewogICAgICAgIGFjdGlvbjogJ2NvbnRpbnVlJywKICAgICAgfQogICAgfTsKCiAgICAvLyBVc2UgYSBjaHVua2VkIHNlbmRpbmcgdG8gYXZvaWQgbWVzc2FnZSBzaXplIGxpbWl0cy4gU2VlIGIvNjIxMTU2NjAuCiAgICBsZXQgcG9zaXRpb24gPSAwOwogICAgZG8gewogICAgICBjb25zdCBsZW5ndGggPSBNYXRoLm1pbihmaWxlRGF0YS5ieXRlTGVuZ3RoIC0gcG9zaXRpb24sIE1BWF9QQVlMT0FEX1NJWkUpOwogICAgICBjb25zdCBjaHVuayA9IG5ldyBVaW50OEFycmF5KGZpbGVEYXRhLCBwb3NpdGlvbiwgbGVuZ3RoKTsKICAgICAgcG9zaXRpb24gKz0gbGVuZ3RoOwoKICAgICAgY29uc3QgYmFzZTY0ID0gYnRvYShTdHJpbmcuZnJvbUNoYXJDb2RlLmFwcGx5KG51bGwsIGNodW5rKSk7CiAgICAgIHlpZWxkIHsKICAgICAgICByZXNwb25zZTogewogICAgICAgICAgYWN0aW9uOiAnYXBwZW5kJywKICAgICAgICAgIGZpbGU6IGZpbGUubmFtZSwKICAgICAgICAgIGRhdGE6IGJhc2U2NCwKICAgICAgICB9LAogICAgICB9OwoKICAgICAgbGV0IHBlcmNlbnREb25lID0gZmlsZURhdGEuYnl0ZUxlbmd0aCA9PT0gMCA/CiAgICAgICAgICAxMDAgOgogICAgICAgICAgTWF0aC5yb3VuZCgocG9zaXRpb24gLyBmaWxlRGF0YS5ieXRlTGVuZ3RoKSAqIDEwMCk7CiAgICAgIHBlcmNlbnQudGV4dENvbnRlbnQgPSBgJHtwZXJjZW50RG9uZX0lIGRvbmVgOwoKICAgIH0gd2hpbGUgKHBvc2l0aW9uIDwgZmlsZURhdGEuYnl0ZUxlbmd0aCk7CiAgfQoKICAvLyBBbGwgZG9uZS4KICB5aWVsZCB7CiAgICByZXNwb25zZTogewogICAgICBhY3Rpb246ICdjb21wbGV0ZScsCiAgICB9CiAgfTsKfQoKc2NvcGUuZ29vZ2xlID0gc2NvcGUuZ29vZ2xlIHx8IHt9OwpzY29wZS5nb29nbGUuY29sYWIgPSBzY29wZS5nb29nbGUuY29sYWIgfHwge307CnNjb3BlLmdvb2dsZS5jb2xhYi5fZmlsZXMgPSB7CiAgX3VwbG9hZEZpbGVzLAogIF91cGxvYWRGaWxlc0NvbnRpbnVlLAp9Owp9KShzZWxmKTsK",
              "ok": true,
              "headers": [
                [
                  "content-type",
                  "application/javascript"
                ]
              ],
              "status": 200,
              "status_text": ""
            }
          },
          "base_uri": "https://localhost:8080/",
          "height": 91
        },
        "id": "83s9sajW17C3",
        "outputId": "ae55f892-20f7-4dd4-9664-8b8a33a4b88d"
      },
      "execution_count": null,
      "outputs": [
        {
          "output_type": "display_data",
          "data": {
            "text/html": [
              "\n",
              "     <input type=\"file\" id=\"files-241d729c-c05c-4554-b749-37674a1e0103\" name=\"files[]\" multiple disabled\n",
              "        style=\"border:none\" />\n",
              "     <output id=\"result-241d729c-c05c-4554-b749-37674a1e0103\">\n",
              "      Upload widget is only available when the cell has been executed in the\n",
              "      current browser session. Please rerun this cell to enable.\n",
              "      </output>\n",
              "      <script src=\"/nbextensions/google.colab/files.js\"></script> "
            ],
            "text/plain": [
              "<IPython.core.display.HTML object>"
            ]
          },
          "metadata": {}
        },
        {
          "output_type": "stream",
          "name": "stdout",
          "text": [
            "Saving Bike_Rental_Data_Dictionary.jpg to Bike_Rental_Data_Dictionary (1).jpg\n",
            "User uploaded file \"Bike_Rental_Data_Dictionary.jpg\" with length 161771 bytes\n"
          ]
        }
      ]
    },
    {
      "cell_type": "code",
      "source": [
        "import cv2\n",
        "img = cv2.imread(\"/content/Bike_Rental_Data_Dictionary.jpg.jpg\")\n",
        "cv2.imshow(img)"
      ],
      "metadata": {
        "id": "h-ZYgd2y9U1N"
      },
      "execution_count": null,
      "outputs": []
    },
    {
      "cell_type": "code",
      "execution_count": null,
      "metadata": {
        "id": "bgr3HjuDLN_m"
      },
      "outputs": [],
      "source": [
        "!pip install evidently\n",
        "# !pip uninstall mlflow\n",
        "# !pip install pyngrok --quiet"
      ]
    },
    {
      "cell_type": "code",
      "source": [
        "!pip install mlflow"
      ],
      "metadata": {
        "id": "TC2JWUZ8fFSL"
      },
      "execution_count": null,
      "outputs": []
    },
    {
      "cell_type": "code",
      "source": [
        "!pip install pyngrok --quiet"
      ],
      "metadata": {
        "id": "d4Xi4gE9n9-v"
      },
      "execution_count": null,
      "outputs": []
    },
    {
      "cell_type": "code",
      "source": [
        "import json\n",
        "import pandas as pd\n",
        "import numpy as np\n",
        "import requests\n",
        "import zipfile\n",
        "import io\n",
        "\n",
        "from datetime import datetime\n",
        "from sklearn import datasets, ensemble\n",
        "\n",
        "from evidently.dashboard import Dashboard\n",
        "from evidently.pipeline.column_mapping import ColumnMapping\n",
        "from evidently.tabs import DataDriftTab, NumTargetDriftTab, RegressionPerformanceTab\n",
        "\n",
        "import seaborn as sns\n",
        "import matplotlib.pyplot as plt\n",
        "\n",
        "from evidently.model_profile import Profile\n",
        "from evidently.profile_sections import (DataDriftProfileSection,RegressionPerformanceProfileSection)\n",
        "from evidently.pipeline.column_mapping import ColumnMapping"
      ],
      "metadata": {
        "id": "4aAYiqwNLPy-",
        "colab": {
          "base_uri": "https://localhost:8080/"
        },
        "outputId": "2afa7cc4-91c9-4f58-851f-4e0e7dbe3ae5"
      },
      "execution_count": 5,
      "outputs": [
        {
          "output_type": "stream",
          "name": "stderr",
          "text": [
            "/usr/local/lib/python3.7/dist-packages/distributed/config.py:20: YAMLLoadWarning: calling yaml.load() without Loader=... is deprecated, as the default Loader is unsafe. Please read https://msg.pyyaml.org/load for full details.\n",
            "  defaults = yaml.load(f)\n"
          ]
        }
      ]
    },
    {
      "cell_type": "markdown",
      "source": [
        "## **Reading Hourly Bike Rental Data**"
      ],
      "metadata": {
        "id": "XwYCk24C6iL-"
      }
    },
    {
      "cell_type": "code",
      "source": [
        "content = requests.get(\"https://archive.ics.uci.edu/ml/machine-learning-databases/00275/Bike-Sharing-Dataset.zip\").content\n",
        "with zipfile.ZipFile(io.BytesIO(content)) as arc:\n",
        "    raw_data = pd.read_csv(arc.open(\"hour.csv\"), header=0, sep=',', parse_dates=['dteday'], index_col='dteday')"
      ],
      "metadata": {
        "id": "VgKRgVkZLPwN"
      },
      "execution_count": 6,
      "outputs": []
    },
    {
      "cell_type": "markdown",
      "source": [
        "## **Data Exploration**"
      ],
      "metadata": {
        "id": "xWTDeTkD_UFd"
      }
    },
    {
      "cell_type": "code",
      "source": [
        "print(\"Shape of the data\",raw_data.shape)\n",
        "print('#'* 100)\n",
        "print(\"List of columns from in the data\",raw_data.columns)  #list(raw_data.columns)\n",
        "print('#'* 100)\n",
        "print(\"Rawdata Information\",raw_data.info())"
      ],
      "metadata": {
        "colab": {
          "base_uri": "https://localhost:8080/"
        },
        "id": "3cQDTVXl_FaZ",
        "outputId": "e2724817-3022-41d5-88a1-09b434ed1635"
      },
      "execution_count": 51,
      "outputs": [
        {
          "output_type": "stream",
          "name": "stdout",
          "text": [
            "Shape of the data (17379, 16)\n",
            "####################################################################################################\n",
            "List of columns from in the data Index(['instant', 'season', 'yr', 'mnth', 'hr', 'holiday', 'weekday',\n",
            "       'workingday', 'weathersit', 'temp', 'atemp', 'hum', 'windspeed',\n",
            "       'casual', 'registered', 'cnt'],\n",
            "      dtype='object')\n",
            "####################################################################################################\n",
            "<class 'pandas.core.frame.DataFrame'>\n",
            "DatetimeIndex: 17379 entries, 2011-01-01 to 2012-12-31\n",
            "Data columns (total 16 columns):\n",
            " #   Column      Non-Null Count  Dtype  \n",
            "---  ------      --------------  -----  \n",
            " 0   instant     17379 non-null  int64  \n",
            " 1   season      17379 non-null  int64  \n",
            " 2   yr          17379 non-null  int64  \n",
            " 3   mnth        17379 non-null  int64  \n",
            " 4   hr          17379 non-null  int64  \n",
            " 5   holiday     17379 non-null  int64  \n",
            " 6   weekday     17379 non-null  int64  \n",
            " 7   workingday  17379 non-null  int64  \n",
            " 8   weathersit  17379 non-null  int64  \n",
            " 9   temp        17379 non-null  float64\n",
            " 10  atemp       17379 non-null  float64\n",
            " 11  hum         17379 non-null  float64\n",
            " 12  windspeed   17379 non-null  float64\n",
            " 13  casual      17379 non-null  int64  \n",
            " 14  registered  17379 non-null  int64  \n",
            " 15  cnt         17379 non-null  int64  \n",
            "dtypes: float64(4), int64(12)\n",
            "memory usage: 2.9 MB\n",
            "Rawdata Information None\n"
          ]
        }
      ]
    },
    {
      "cell_type": "code",
      "source": [
        "raw_data.head(100)"
      ],
      "metadata": {
        "colab": {
          "base_uri": "https://localhost:8080/",
          "height": 332
        },
        "id": "wa3p6HHoLPn5",
        "outputId": "a964daad-13a1-4e42-ab0d-8787f76a8f5e"
      },
      "execution_count": 9,
      "outputs": [
        {
          "output_type": "execute_result",
          "data": {
            "text/html": [
              "\n",
              "  <div id=\"df-f49492eb-e368-43c7-a24a-7e04d588219e\">\n",
              "    <div class=\"colab-df-container\">\n",
              "      <div>\n",
              "<style scoped>\n",
              "    .dataframe tbody tr th:only-of-type {\n",
              "        vertical-align: middle;\n",
              "    }\n",
              "\n",
              "    .dataframe tbody tr th {\n",
              "        vertical-align: top;\n",
              "    }\n",
              "\n",
              "    .dataframe thead th {\n",
              "        text-align: right;\n",
              "    }\n",
              "</style>\n",
              "<table border=\"1\" class=\"dataframe\">\n",
              "  <thead>\n",
              "    <tr style=\"text-align: right;\">\n",
              "      <th></th>\n",
              "      <th>instant</th>\n",
              "      <th>season</th>\n",
              "      <th>yr</th>\n",
              "      <th>mnth</th>\n",
              "      <th>hr</th>\n",
              "      <th>holiday</th>\n",
              "      <th>weekday</th>\n",
              "      <th>workingday</th>\n",
              "      <th>weathersit</th>\n",
              "      <th>temp</th>\n",
              "      <th>atemp</th>\n",
              "      <th>hum</th>\n",
              "      <th>windspeed</th>\n",
              "      <th>casual</th>\n",
              "      <th>registered</th>\n",
              "      <th>cnt</th>\n",
              "    </tr>\n",
              "    <tr>\n",
              "      <th>dteday</th>\n",
              "      <th></th>\n",
              "      <th></th>\n",
              "      <th></th>\n",
              "      <th></th>\n",
              "      <th></th>\n",
              "      <th></th>\n",
              "      <th></th>\n",
              "      <th></th>\n",
              "      <th></th>\n",
              "      <th></th>\n",
              "      <th></th>\n",
              "      <th></th>\n",
              "      <th></th>\n",
              "      <th></th>\n",
              "      <th></th>\n",
              "      <th></th>\n",
              "    </tr>\n",
              "  </thead>\n",
              "  <tbody>\n",
              "    <tr>\n",
              "      <th>2011-01-01</th>\n",
              "      <td>1</td>\n",
              "      <td>1</td>\n",
              "      <td>0</td>\n",
              "      <td>1</td>\n",
              "      <td>0</td>\n",
              "      <td>0</td>\n",
              "      <td>6</td>\n",
              "      <td>0</td>\n",
              "      <td>1</td>\n",
              "      <td>0.24</td>\n",
              "      <td>0.2879</td>\n",
              "      <td>0.81</td>\n",
              "      <td>0.0000</td>\n",
              "      <td>3</td>\n",
              "      <td>13</td>\n",
              "      <td>16</td>\n",
              "    </tr>\n",
              "    <tr>\n",
              "      <th>2011-01-01</th>\n",
              "      <td>2</td>\n",
              "      <td>1</td>\n",
              "      <td>0</td>\n",
              "      <td>1</td>\n",
              "      <td>1</td>\n",
              "      <td>0</td>\n",
              "      <td>6</td>\n",
              "      <td>0</td>\n",
              "      <td>1</td>\n",
              "      <td>0.22</td>\n",
              "      <td>0.2727</td>\n",
              "      <td>0.80</td>\n",
              "      <td>0.0000</td>\n",
              "      <td>8</td>\n",
              "      <td>32</td>\n",
              "      <td>40</td>\n",
              "    </tr>\n",
              "    <tr>\n",
              "      <th>2011-01-01</th>\n",
              "      <td>3</td>\n",
              "      <td>1</td>\n",
              "      <td>0</td>\n",
              "      <td>1</td>\n",
              "      <td>2</td>\n",
              "      <td>0</td>\n",
              "      <td>6</td>\n",
              "      <td>0</td>\n",
              "      <td>1</td>\n",
              "      <td>0.22</td>\n",
              "      <td>0.2727</td>\n",
              "      <td>0.80</td>\n",
              "      <td>0.0000</td>\n",
              "      <td>5</td>\n",
              "      <td>27</td>\n",
              "      <td>32</td>\n",
              "    </tr>\n",
              "    <tr>\n",
              "      <th>2011-01-01</th>\n",
              "      <td>4</td>\n",
              "      <td>1</td>\n",
              "      <td>0</td>\n",
              "      <td>1</td>\n",
              "      <td>3</td>\n",
              "      <td>0</td>\n",
              "      <td>6</td>\n",
              "      <td>0</td>\n",
              "      <td>1</td>\n",
              "      <td>0.24</td>\n",
              "      <td>0.2879</td>\n",
              "      <td>0.75</td>\n",
              "      <td>0.0000</td>\n",
              "      <td>3</td>\n",
              "      <td>10</td>\n",
              "      <td>13</td>\n",
              "    </tr>\n",
              "    <tr>\n",
              "      <th>2011-01-01</th>\n",
              "      <td>5</td>\n",
              "      <td>1</td>\n",
              "      <td>0</td>\n",
              "      <td>1</td>\n",
              "      <td>4</td>\n",
              "      <td>0</td>\n",
              "      <td>6</td>\n",
              "      <td>0</td>\n",
              "      <td>1</td>\n",
              "      <td>0.24</td>\n",
              "      <td>0.2879</td>\n",
              "      <td>0.75</td>\n",
              "      <td>0.0000</td>\n",
              "      <td>0</td>\n",
              "      <td>1</td>\n",
              "      <td>1</td>\n",
              "    </tr>\n",
              "    <tr>\n",
              "      <th>...</th>\n",
              "      <td>...</td>\n",
              "      <td>...</td>\n",
              "      <td>...</td>\n",
              "      <td>...</td>\n",
              "      <td>...</td>\n",
              "      <td>...</td>\n",
              "      <td>...</td>\n",
              "      <td>...</td>\n",
              "      <td>...</td>\n",
              "      <td>...</td>\n",
              "      <td>...</td>\n",
              "      <td>...</td>\n",
              "      <td>...</td>\n",
              "      <td>...</td>\n",
              "      <td>...</td>\n",
              "      <td>...</td>\n",
              "    </tr>\n",
              "    <tr>\n",
              "      <th>2011-01-05</th>\n",
              "      <td>96</td>\n",
              "      <td>1</td>\n",
              "      <td>0</td>\n",
              "      <td>1</td>\n",
              "      <td>4</td>\n",
              "      <td>0</td>\n",
              "      <td>3</td>\n",
              "      <td>1</td>\n",
              "      <td>1</td>\n",
              "      <td>0.24</td>\n",
              "      <td>0.2273</td>\n",
              "      <td>0.48</td>\n",
              "      <td>0.2239</td>\n",
              "      <td>0</td>\n",
              "      <td>2</td>\n",
              "      <td>2</td>\n",
              "    </tr>\n",
              "    <tr>\n",
              "      <th>2011-01-05</th>\n",
              "      <td>97</td>\n",
              "      <td>1</td>\n",
              "      <td>0</td>\n",
              "      <td>1</td>\n",
              "      <td>5</td>\n",
              "      <td>0</td>\n",
              "      <td>3</td>\n",
              "      <td>1</td>\n",
              "      <td>1</td>\n",
              "      <td>0.22</td>\n",
              "      <td>0.2273</td>\n",
              "      <td>0.47</td>\n",
              "      <td>0.1642</td>\n",
              "      <td>0</td>\n",
              "      <td>3</td>\n",
              "      <td>3</td>\n",
              "    </tr>\n",
              "    <tr>\n",
              "      <th>2011-01-05</th>\n",
              "      <td>98</td>\n",
              "      <td>1</td>\n",
              "      <td>0</td>\n",
              "      <td>1</td>\n",
              "      <td>6</td>\n",
              "      <td>0</td>\n",
              "      <td>3</td>\n",
              "      <td>1</td>\n",
              "      <td>1</td>\n",
              "      <td>0.20</td>\n",
              "      <td>0.1970</td>\n",
              "      <td>0.47</td>\n",
              "      <td>0.2239</td>\n",
              "      <td>0</td>\n",
              "      <td>33</td>\n",
              "      <td>33</td>\n",
              "    </tr>\n",
              "    <tr>\n",
              "      <th>2011-01-05</th>\n",
              "      <td>99</td>\n",
              "      <td>1</td>\n",
              "      <td>0</td>\n",
              "      <td>1</td>\n",
              "      <td>7</td>\n",
              "      <td>0</td>\n",
              "      <td>3</td>\n",
              "      <td>1</td>\n",
              "      <td>1</td>\n",
              "      <td>0.18</td>\n",
              "      <td>0.1818</td>\n",
              "      <td>0.43</td>\n",
              "      <td>0.1940</td>\n",
              "      <td>1</td>\n",
              "      <td>87</td>\n",
              "      <td>88</td>\n",
              "    </tr>\n",
              "    <tr>\n",
              "      <th>2011-01-05</th>\n",
              "      <td>100</td>\n",
              "      <td>1</td>\n",
              "      <td>0</td>\n",
              "      <td>1</td>\n",
              "      <td>8</td>\n",
              "      <td>0</td>\n",
              "      <td>3</td>\n",
              "      <td>1</td>\n",
              "      <td>1</td>\n",
              "      <td>0.20</td>\n",
              "      <td>0.1818</td>\n",
              "      <td>0.40</td>\n",
              "      <td>0.2985</td>\n",
              "      <td>3</td>\n",
              "      <td>192</td>\n",
              "      <td>195</td>\n",
              "    </tr>\n",
              "  </tbody>\n",
              "</table>\n",
              "<p>100 rows × 16 columns</p>\n",
              "</div>\n",
              "      <button class=\"colab-df-convert\" onclick=\"convertToInteractive('df-f49492eb-e368-43c7-a24a-7e04d588219e')\"\n",
              "              title=\"Convert this dataframe to an interactive table.\"\n",
              "              style=\"display:none;\">\n",
              "        \n",
              "  <svg xmlns=\"http://www.w3.org/2000/svg\" height=\"24px\"viewBox=\"0 0 24 24\"\n",
              "       width=\"24px\">\n",
              "    <path d=\"M0 0h24v24H0V0z\" fill=\"none\"/>\n",
              "    <path d=\"M18.56 5.44l.94 2.06.94-2.06 2.06-.94-2.06-.94-.94-2.06-.94 2.06-2.06.94zm-11 1L8.5 8.5l.94-2.06 2.06-.94-2.06-.94L8.5 2.5l-.94 2.06-2.06.94zm10 10l.94 2.06.94-2.06 2.06-.94-2.06-.94-.94-2.06-.94 2.06-2.06.94z\"/><path d=\"M17.41 7.96l-1.37-1.37c-.4-.4-.92-.59-1.43-.59-.52 0-1.04.2-1.43.59L10.3 9.45l-7.72 7.72c-.78.78-.78 2.05 0 2.83L4 21.41c.39.39.9.59 1.41.59.51 0 1.02-.2 1.41-.59l7.78-7.78 2.81-2.81c.8-.78.8-2.07 0-2.86zM5.41 20L4 18.59l7.72-7.72 1.47 1.35L5.41 20z\"/>\n",
              "  </svg>\n",
              "      </button>\n",
              "      \n",
              "  <style>\n",
              "    .colab-df-container {\n",
              "      display:flex;\n",
              "      flex-wrap:wrap;\n",
              "      gap: 12px;\n",
              "    }\n",
              "\n",
              "    .colab-df-convert {\n",
              "      background-color: #E8F0FE;\n",
              "      border: none;\n",
              "      border-radius: 50%;\n",
              "      cursor: pointer;\n",
              "      display: none;\n",
              "      fill: #1967D2;\n",
              "      height: 32px;\n",
              "      padding: 0 0 0 0;\n",
              "      width: 32px;\n",
              "    }\n",
              "\n",
              "    .colab-df-convert:hover {\n",
              "      background-color: #E2EBFA;\n",
              "      box-shadow: 0px 1px 2px rgba(60, 64, 67, 0.3), 0px 1px 3px 1px rgba(60, 64, 67, 0.15);\n",
              "      fill: #174EA6;\n",
              "    }\n",
              "\n",
              "    [theme=dark] .colab-df-convert {\n",
              "      background-color: #3B4455;\n",
              "      fill: #D2E3FC;\n",
              "    }\n",
              "\n",
              "    [theme=dark] .colab-df-convert:hover {\n",
              "      background-color: #434B5C;\n",
              "      box-shadow: 0px 1px 3px 1px rgba(0, 0, 0, 0.15);\n",
              "      filter: drop-shadow(0px 1px 2px rgba(0, 0, 0, 0.3));\n",
              "      fill: #FFFFFF;\n",
              "    }\n",
              "  </style>\n",
              "\n",
              "      <script>\n",
              "        const buttonEl =\n",
              "          document.querySelector('#df-f49492eb-e368-43c7-a24a-7e04d588219e button.colab-df-convert');\n",
              "        buttonEl.style.display =\n",
              "          google.colab.kernel.accessAllowed ? 'block' : 'none';\n",
              "\n",
              "        async function convertToInteractive(key) {\n",
              "          const element = document.querySelector('#df-f49492eb-e368-43c7-a24a-7e04d588219e');\n",
              "          const dataTable =\n",
              "            await google.colab.kernel.invokeFunction('convertToInteractive',\n",
              "                                                     [key], {});\n",
              "          if (!dataTable) return;\n",
              "\n",
              "          const docLinkHtml = 'Like what you see? Visit the ' +\n",
              "            '<a target=\"_blank\" href=https://colab.research.google.com/notebooks/data_table.ipynb>data table notebook</a>'\n",
              "            + ' to learn more about interactive tables.';\n",
              "          element.innerHTML = '';\n",
              "          dataTable['output_type'] = 'display_data';\n",
              "          await google.colab.output.renderOutput(dataTable, element);\n",
              "          const docLink = document.createElement('div');\n",
              "          docLink.innerHTML = docLinkHtml;\n",
              "          element.appendChild(docLink);\n",
              "        }\n",
              "      </script>\n",
              "    </div>\n",
              "  </div>\n",
              "  "
            ],
            "text/plain": [
              "            instant  season  yr  mnth  ...  windspeed  casual  registered  cnt\n",
              "dteday                                 ...                                    \n",
              "2011-01-01        1       1   0     1  ...     0.0000       3          13   16\n",
              "2011-01-01        2       1   0     1  ...     0.0000       8          32   40\n",
              "2011-01-01        3       1   0     1  ...     0.0000       5          27   32\n",
              "2011-01-01        4       1   0     1  ...     0.0000       3          10   13\n",
              "2011-01-01        5       1   0     1  ...     0.0000       0           1    1\n",
              "...             ...     ...  ..   ...  ...        ...     ...         ...  ...\n",
              "2011-01-05       96       1   0     1  ...     0.2239       0           2    2\n",
              "2011-01-05       97       1   0     1  ...     0.1642       0           3    3\n",
              "2011-01-05       98       1   0     1  ...     0.2239       0          33   33\n",
              "2011-01-05       99       1   0     1  ...     0.1940       1          87   88\n",
              "2011-01-05      100       1   0     1  ...     0.2985       3         192  195\n",
              "\n",
              "[100 rows x 16 columns]"
            ]
          },
          "metadata": {},
          "execution_count": 9
        }
      ]
    },
    {
      "cell_type": "code",
      "source": [
        "raw_data.describe()"
      ],
      "metadata": {
        "colab": {
          "base_uri": "https://localhost:8080/",
          "height": 295
        },
        "id": "uCLtLvBXLPqw",
        "outputId": "08398af4-3584-4903-b653-777013b95d2d"
      },
      "execution_count": 10,
      "outputs": [
        {
          "output_type": "execute_result",
          "data": {
            "text/html": [
              "\n",
              "  <div id=\"df-53a24b58-5a43-4d02-81d6-012080b0988f\">\n",
              "    <div class=\"colab-df-container\">\n",
              "      <div>\n",
              "<style scoped>\n",
              "    .dataframe tbody tr th:only-of-type {\n",
              "        vertical-align: middle;\n",
              "    }\n",
              "\n",
              "    .dataframe tbody tr th {\n",
              "        vertical-align: top;\n",
              "    }\n",
              "\n",
              "    .dataframe thead th {\n",
              "        text-align: right;\n",
              "    }\n",
              "</style>\n",
              "<table border=\"1\" class=\"dataframe\">\n",
              "  <thead>\n",
              "    <tr style=\"text-align: right;\">\n",
              "      <th></th>\n",
              "      <th>instant</th>\n",
              "      <th>season</th>\n",
              "      <th>yr</th>\n",
              "      <th>mnth</th>\n",
              "      <th>hr</th>\n",
              "      <th>holiday</th>\n",
              "      <th>weekday</th>\n",
              "      <th>workingday</th>\n",
              "      <th>weathersit</th>\n",
              "      <th>temp</th>\n",
              "      <th>atemp</th>\n",
              "      <th>hum</th>\n",
              "      <th>windspeed</th>\n",
              "      <th>casual</th>\n",
              "      <th>registered</th>\n",
              "      <th>cnt</th>\n",
              "    </tr>\n",
              "  </thead>\n",
              "  <tbody>\n",
              "    <tr>\n",
              "      <th>count</th>\n",
              "      <td>17379.0000</td>\n",
              "      <td>17379.000000</td>\n",
              "      <td>17379.000000</td>\n",
              "      <td>17379.000000</td>\n",
              "      <td>17379.000000</td>\n",
              "      <td>17379.000000</td>\n",
              "      <td>17379.000000</td>\n",
              "      <td>17379.000000</td>\n",
              "      <td>17379.000000</td>\n",
              "      <td>17379.000000</td>\n",
              "      <td>17379.000000</td>\n",
              "      <td>17379.000000</td>\n",
              "      <td>17379.000000</td>\n",
              "      <td>17379.000000</td>\n",
              "      <td>17379.000000</td>\n",
              "      <td>17379.000000</td>\n",
              "    </tr>\n",
              "    <tr>\n",
              "      <th>mean</th>\n",
              "      <td>8690.0000</td>\n",
              "      <td>2.501640</td>\n",
              "      <td>0.502561</td>\n",
              "      <td>6.537775</td>\n",
              "      <td>11.546752</td>\n",
              "      <td>0.028770</td>\n",
              "      <td>3.003683</td>\n",
              "      <td>0.682721</td>\n",
              "      <td>1.425283</td>\n",
              "      <td>0.496987</td>\n",
              "      <td>0.475775</td>\n",
              "      <td>0.627229</td>\n",
              "      <td>0.190098</td>\n",
              "      <td>35.676218</td>\n",
              "      <td>153.786869</td>\n",
              "      <td>189.463088</td>\n",
              "    </tr>\n",
              "    <tr>\n",
              "      <th>std</th>\n",
              "      <td>5017.0295</td>\n",
              "      <td>1.106918</td>\n",
              "      <td>0.500008</td>\n",
              "      <td>3.438776</td>\n",
              "      <td>6.914405</td>\n",
              "      <td>0.167165</td>\n",
              "      <td>2.005771</td>\n",
              "      <td>0.465431</td>\n",
              "      <td>0.639357</td>\n",
              "      <td>0.192556</td>\n",
              "      <td>0.171850</td>\n",
              "      <td>0.192930</td>\n",
              "      <td>0.122340</td>\n",
              "      <td>49.305030</td>\n",
              "      <td>151.357286</td>\n",
              "      <td>181.387599</td>\n",
              "    </tr>\n",
              "    <tr>\n",
              "      <th>min</th>\n",
              "      <td>1.0000</td>\n",
              "      <td>1.000000</td>\n",
              "      <td>0.000000</td>\n",
              "      <td>1.000000</td>\n",
              "      <td>0.000000</td>\n",
              "      <td>0.000000</td>\n",
              "      <td>0.000000</td>\n",
              "      <td>0.000000</td>\n",
              "      <td>1.000000</td>\n",
              "      <td>0.020000</td>\n",
              "      <td>0.000000</td>\n",
              "      <td>0.000000</td>\n",
              "      <td>0.000000</td>\n",
              "      <td>0.000000</td>\n",
              "      <td>0.000000</td>\n",
              "      <td>1.000000</td>\n",
              "    </tr>\n",
              "    <tr>\n",
              "      <th>25%</th>\n",
              "      <td>4345.5000</td>\n",
              "      <td>2.000000</td>\n",
              "      <td>0.000000</td>\n",
              "      <td>4.000000</td>\n",
              "      <td>6.000000</td>\n",
              "      <td>0.000000</td>\n",
              "      <td>1.000000</td>\n",
              "      <td>0.000000</td>\n",
              "      <td>1.000000</td>\n",
              "      <td>0.340000</td>\n",
              "      <td>0.333300</td>\n",
              "      <td>0.480000</td>\n",
              "      <td>0.104500</td>\n",
              "      <td>4.000000</td>\n",
              "      <td>34.000000</td>\n",
              "      <td>40.000000</td>\n",
              "    </tr>\n",
              "    <tr>\n",
              "      <th>50%</th>\n",
              "      <td>8690.0000</td>\n",
              "      <td>3.000000</td>\n",
              "      <td>1.000000</td>\n",
              "      <td>7.000000</td>\n",
              "      <td>12.000000</td>\n",
              "      <td>0.000000</td>\n",
              "      <td>3.000000</td>\n",
              "      <td>1.000000</td>\n",
              "      <td>1.000000</td>\n",
              "      <td>0.500000</td>\n",
              "      <td>0.484800</td>\n",
              "      <td>0.630000</td>\n",
              "      <td>0.194000</td>\n",
              "      <td>17.000000</td>\n",
              "      <td>115.000000</td>\n",
              "      <td>142.000000</td>\n",
              "    </tr>\n",
              "    <tr>\n",
              "      <th>75%</th>\n",
              "      <td>13034.5000</td>\n",
              "      <td>3.000000</td>\n",
              "      <td>1.000000</td>\n",
              "      <td>10.000000</td>\n",
              "      <td>18.000000</td>\n",
              "      <td>0.000000</td>\n",
              "      <td>5.000000</td>\n",
              "      <td>1.000000</td>\n",
              "      <td>2.000000</td>\n",
              "      <td>0.660000</td>\n",
              "      <td>0.621200</td>\n",
              "      <td>0.780000</td>\n",
              "      <td>0.253700</td>\n",
              "      <td>48.000000</td>\n",
              "      <td>220.000000</td>\n",
              "      <td>281.000000</td>\n",
              "    </tr>\n",
              "    <tr>\n",
              "      <th>max</th>\n",
              "      <td>17379.0000</td>\n",
              "      <td>4.000000</td>\n",
              "      <td>1.000000</td>\n",
              "      <td>12.000000</td>\n",
              "      <td>23.000000</td>\n",
              "      <td>1.000000</td>\n",
              "      <td>6.000000</td>\n",
              "      <td>1.000000</td>\n",
              "      <td>4.000000</td>\n",
              "      <td>1.000000</td>\n",
              "      <td>1.000000</td>\n",
              "      <td>1.000000</td>\n",
              "      <td>0.850700</td>\n",
              "      <td>367.000000</td>\n",
              "      <td>886.000000</td>\n",
              "      <td>977.000000</td>\n",
              "    </tr>\n",
              "  </tbody>\n",
              "</table>\n",
              "</div>\n",
              "      <button class=\"colab-df-convert\" onclick=\"convertToInteractive('df-53a24b58-5a43-4d02-81d6-012080b0988f')\"\n",
              "              title=\"Convert this dataframe to an interactive table.\"\n",
              "              style=\"display:none;\">\n",
              "        \n",
              "  <svg xmlns=\"http://www.w3.org/2000/svg\" height=\"24px\"viewBox=\"0 0 24 24\"\n",
              "       width=\"24px\">\n",
              "    <path d=\"M0 0h24v24H0V0z\" fill=\"none\"/>\n",
              "    <path d=\"M18.56 5.44l.94 2.06.94-2.06 2.06-.94-2.06-.94-.94-2.06-.94 2.06-2.06.94zm-11 1L8.5 8.5l.94-2.06 2.06-.94-2.06-.94L8.5 2.5l-.94 2.06-2.06.94zm10 10l.94 2.06.94-2.06 2.06-.94-2.06-.94-.94-2.06-.94 2.06-2.06.94z\"/><path d=\"M17.41 7.96l-1.37-1.37c-.4-.4-.92-.59-1.43-.59-.52 0-1.04.2-1.43.59L10.3 9.45l-7.72 7.72c-.78.78-.78 2.05 0 2.83L4 21.41c.39.39.9.59 1.41.59.51 0 1.02-.2 1.41-.59l7.78-7.78 2.81-2.81c.8-.78.8-2.07 0-2.86zM5.41 20L4 18.59l7.72-7.72 1.47 1.35L5.41 20z\"/>\n",
              "  </svg>\n",
              "      </button>\n",
              "      \n",
              "  <style>\n",
              "    .colab-df-container {\n",
              "      display:flex;\n",
              "      flex-wrap:wrap;\n",
              "      gap: 12px;\n",
              "    }\n",
              "\n",
              "    .colab-df-convert {\n",
              "      background-color: #E8F0FE;\n",
              "      border: none;\n",
              "      border-radius: 50%;\n",
              "      cursor: pointer;\n",
              "      display: none;\n",
              "      fill: #1967D2;\n",
              "      height: 32px;\n",
              "      padding: 0 0 0 0;\n",
              "      width: 32px;\n",
              "    }\n",
              "\n",
              "    .colab-df-convert:hover {\n",
              "      background-color: #E2EBFA;\n",
              "      box-shadow: 0px 1px 2px rgba(60, 64, 67, 0.3), 0px 1px 3px 1px rgba(60, 64, 67, 0.15);\n",
              "      fill: #174EA6;\n",
              "    }\n",
              "\n",
              "    [theme=dark] .colab-df-convert {\n",
              "      background-color: #3B4455;\n",
              "      fill: #D2E3FC;\n",
              "    }\n",
              "\n",
              "    [theme=dark] .colab-df-convert:hover {\n",
              "      background-color: #434B5C;\n",
              "      box-shadow: 0px 1px 3px 1px rgba(0, 0, 0, 0.15);\n",
              "      filter: drop-shadow(0px 1px 2px rgba(0, 0, 0, 0.3));\n",
              "      fill: #FFFFFF;\n",
              "    }\n",
              "  </style>\n",
              "\n",
              "      <script>\n",
              "        const buttonEl =\n",
              "          document.querySelector('#df-53a24b58-5a43-4d02-81d6-012080b0988f button.colab-df-convert');\n",
              "        buttonEl.style.display =\n",
              "          google.colab.kernel.accessAllowed ? 'block' : 'none';\n",
              "\n",
              "        async function convertToInteractive(key) {\n",
              "          const element = document.querySelector('#df-53a24b58-5a43-4d02-81d6-012080b0988f');\n",
              "          const dataTable =\n",
              "            await google.colab.kernel.invokeFunction('convertToInteractive',\n",
              "                                                     [key], {});\n",
              "          if (!dataTable) return;\n",
              "\n",
              "          const docLinkHtml = 'Like what you see? Visit the ' +\n",
              "            '<a target=\"_blank\" href=https://colab.research.google.com/notebooks/data_table.ipynb>data table notebook</a>'\n",
              "            + ' to learn more about interactive tables.';\n",
              "          element.innerHTML = '';\n",
              "          dataTable['output_type'] = 'display_data';\n",
              "          await google.colab.output.renderOutput(dataTable, element);\n",
              "          const docLink = document.createElement('div');\n",
              "          docLink.innerHTML = docLinkHtml;\n",
              "          element.appendChild(docLink);\n",
              "        }\n",
              "      </script>\n",
              "    </div>\n",
              "  </div>\n",
              "  "
            ],
            "text/plain": [
              "          instant        season  ...    registered           cnt\n",
              "count  17379.0000  17379.000000  ...  17379.000000  17379.000000\n",
              "mean    8690.0000      2.501640  ...    153.786869    189.463088\n",
              "std     5017.0295      1.106918  ...    151.357286    181.387599\n",
              "min        1.0000      1.000000  ...      0.000000      1.000000\n",
              "25%     4345.5000      2.000000  ...     34.000000     40.000000\n",
              "50%     8690.0000      3.000000  ...    115.000000    142.000000\n",
              "75%    13034.5000      3.000000  ...    220.000000    281.000000\n",
              "max    17379.0000      4.000000  ...    886.000000    977.000000\n",
              "\n",
              "[8 rows x 16 columns]"
            ]
          },
          "metadata": {},
          "execution_count": 10
        }
      ]
    },
    {
      "cell_type": "markdown",
      "source": [
        "### Checking if there are any null values"
      ],
      "metadata": {
        "id": "k0yf9Rew-zk3"
      }
    },
    {
      "cell_type": "code",
      "source": [
        "raw_data.isnull().sum()"
      ],
      "metadata": {
        "colab": {
          "base_uri": "https://localhost:8080/"
        },
        "id": "iF3xGuAv9Sa1",
        "outputId": "e424cefc-5668-495f-9141-0f706679ace1"
      },
      "execution_count": 11,
      "outputs": [
        {
          "output_type": "execute_result",
          "data": {
            "text/plain": [
              "instant       0\n",
              "season        0\n",
              "yr            0\n",
              "mnth          0\n",
              "hr            0\n",
              "holiday       0\n",
              "weekday       0\n",
              "workingday    0\n",
              "weathersit    0\n",
              "temp          0\n",
              "atemp         0\n",
              "hum           0\n",
              "windspeed     0\n",
              "casual        0\n",
              "registered    0\n",
              "cnt           0\n",
              "dtype: int64"
            ]
          },
          "metadata": {},
          "execution_count": 11
        }
      ]
    },
    {
      "cell_type": "code",
      "source": [
        "plt.figure(figsize = (10,10))\n",
        "sns.heatmap(raw_data.corr(), annot = True)\n",
        "plt.show()"
      ],
      "metadata": {
        "id": "iyl8GzsV-_6M",
        "colab": {
          "base_uri": "https://localhost:8080/",
          "height": 643
        },
        "outputId": "ce90ba57-a734-4f04-c30c-87f04f2cf071"
      },
      "execution_count": 7,
      "outputs": [
        {
          "output_type": "display_data",
          "data": {
            "image/png": "[encoded data removed]",
            "text/plain": [
              "<Figure size 720x720 with 2 Axes>"
            ]
          },
          "metadata": {
            "needs_background": "light"
          }
        }
      ]
    },
    {
      "cell_type": "markdown",
      "source": [
        "### **There is strong correlation between Month and Season from above heatmap.**"
      ],
      "metadata": {
        "id": "ncmV_x68PCUD"
      }
    },
    {
      "cell_type": "code",
      "source": [
        "print(\"Record Count Summary By Each Season\")\n",
        "print(str(raw_data['season'].value_counts()).split('\\n'))   #season - 1 = spring, 2 = summer, 3 = fall, 4 = winter\n",
        "print('#'* 80)\n",
        "print(\"Record Count Summary By Each Day Of The Week\")\n",
        "print(str(raw_data['weekday'].value_counts()).split('\\n'))  # 0 = Sunday, .., 6 = Saturday\n",
        "print('#'* 80)\n",
        "print(\"Record Count Summary By Each Month\")\n",
        "print(str(raw_data['mnth'].value_counts()).split('\\n'))  # 0 = Sunday, .., 6 = Saturday"
      ],
      "metadata": {
        "colab": {
          "base_uri": "https://localhost:8080/"
        },
        "id": "397VmAm1_6AX",
        "outputId": "eb68cb85-bcef-4293-90ef-c3ea0b36136d"
      },
      "execution_count": 8,
      "outputs": [
        {
          "output_type": "stream",
          "name": "stdout",
          "text": [
            "Record Count Summary By Each Season\n",
            "['3    4496', '2    4409', '1    4242', '4    4232', 'Name: season, dtype: int64']\n",
            "################################################################################\n",
            "Record Count Summary By Each Day Of The Week\n",
            "['6    2512', '0    2502', '5    2487', '1    2479', '3    2475', '4    2471', '2    2453', 'Name: weekday, dtype: int64']\n",
            "################################################################################\n",
            "Record Count Summary By Each Month\n",
            "['7     1488', '5     1488', '12    1483', '8     1475', '3     1473', '10    1451', '6     1440', '11    1437', '9     1437', '4     1437', '1     1429', '2     1341', 'Name: mnth, dtype: int64']\n"
          ]
        }
      ]
    },
    {
      "cell_type": "markdown",
      "source": [
        "### **Above summary clearly indicates a spike in bike rentals during Summer and Fall.**"
      ],
      "metadata": {
        "id": "h4xG9GCiBwUk"
      }
    },
    {
      "cell_type": "code",
      "source": [
        "def bargraphs(columns):\n",
        "    for col in columns:\n",
        "      plt.figure(figsize=(8,6))\n",
        "      sns.set_palette(\"RdBu\")      \n",
        "      sns.countplot(x=col, data= raw_data)\n",
        "      plt.show\n",
        "bargraphs(['season', 'mnth', 'weathersit'])"
      ],
      "metadata": {
        "id": "8tIWETeu_59b"
      },
      "execution_count": null,
      "outputs": []
    },
    {
      "cell_type": "markdown",
      "source": [
        "\n",
        "\n",
        "*   **As noted earlier, bike rentals are high during Summer and Fall seasons from the above graphs for season and month.**\n",
        "*   **It is evident from the above graph that, bike rentals are higher when the weather situation is good.**\n",
        "\n"
      ],
      "metadata": {
        "id": "CRlC4uNKKLYO"
      }
    },
    {
      "cell_type": "code",
      "source": [
        "def distributionplot(columns):\n",
        "    for col in columns:\n",
        "        plt.figure(figsize=(14,6))\n",
        "        sns.distplot(x = raw_data[col]) # distribution\n",
        "        plt.show\n",
        "distributionplot(['casual', 'registered', 'cnt'])"
      ],
      "metadata": {
        "id": "DgWNILWv_51j"
      },
      "execution_count": null,
      "outputs": []
    },
    {
      "cell_type": "code",
      "source": [
        "plt.figure(figsize=(16,8))\n",
        "sns.boxplot(x='weekday',y='cnt', data=raw_data)\n",
        "plt.show()"
      ],
      "metadata": {
        "id": "Tn1uK_U7_55D"
      },
      "execution_count": null,
      "outputs": []
    },
    {
      "cell_type": "markdown",
      "source": [
        "### **As per the above graph, data is positively skewed in each day of the weeek. Lets explore the presence fo outliers in data.**"
      ],
      "metadata": {
        "id": "Hykh6ZnKPlS4"
      }
    },
    {
      "cell_type": "code",
      "source": [
        "plt.figure(figsize=(16,8))\n",
        "sns.boxplot(x='season', y='cnt', data=raw_data)\n",
        "plt.xlabel(\"Seasons (1= spring,  2= summer,  3= fall,  4= winter)\", fontsize=16)\n",
        "plt.show()"
      ],
      "metadata": {
        "id": "hL-ZBNqO_5YG"
      },
      "execution_count": null,
      "outputs": []
    },
    {
      "cell_type": "code",
      "source": [
        "plt.figure(figsize=(16,8))\n",
        "sns.boxplot(x='hr',y='cnt', data=raw_data) \n",
        "plt.show()"
      ],
      "metadata": {
        "id": "nzIhrJWT_5VZ"
      },
      "execution_count": null,
      "outputs": []
    },
    {
      "cell_type": "markdown",
      "source": [
        "### **We can see that large number of people rent bikes during Morning and Evening hours.**"
      ],
      "metadata": {
        "id": "IKDriYc8QMNE"
      }
    },
    {
      "cell_type": "code",
      "source": [
        "plt.figure(figsize=(16,8))\n",
        "sns.boxplot(x='yr',y='cnt', data=raw_data) \n",
        "plt.xlabel(\"Year (0 = 2011,  1 = 2012)\", fontsize=16)\n",
        "plt.show()"
      ],
      "metadata": {
        "id": "9ntVboBzQaB6"
      },
      "execution_count": null,
      "outputs": []
    },
    {
      "cell_type": "code",
      "source": [
        "(raw_data == 0).sum()"
      ],
      "metadata": {
        "colab": {
          "base_uri": "https://localhost:8080/"
        },
        "id": "ZwKEFeE6QaAF",
        "outputId": "ca4c386c-ea1e-466f-bf12-328b940f31b2"
      },
      "execution_count": 17,
      "outputs": [
        {
          "output_type": "execute_result",
          "data": {
            "text/plain": [
              "instant           0\n",
              "season            0\n",
              "yr             8645\n",
              "mnth              0\n",
              "hr              726\n",
              "holiday       16879\n",
              "weekday        2502\n",
              "workingday     5514\n",
              "weathersit        0\n",
              "temp              0\n",
              "atemp             2\n",
              "hum              22\n",
              "windspeed      2180\n",
              "casual         1581\n",
              "registered       24\n",
              "cnt               0\n",
              "dtype: int64"
            ]
          },
          "metadata": {},
          "execution_count": 17
        }
      ]
    },
    {
      "cell_type": "markdown",
      "source": [
        "Lets fill rows of Windspeed column wherever it is currently Zero."
      ],
      "metadata": {
        "id": "tmQgRWlTR9uR"
      }
    },
    {
      "cell_type": "code",
      "source": [
        "raw_data['windspeed'] = raw_data['windspeed'].replace(0,np.NaN)"
      ],
      "metadata": {
        "id": "E0SGDL73QZ9f"
      },
      "execution_count": 9,
      "outputs": []
    },
    {
      "cell_type": "code",
      "source": [
        "(raw_data == 0).sum()"
      ],
      "metadata": {
        "colab": {
          "base_uri": "https://localhost:8080/"
        },
        "id": "0gX3Oqh3QZ4N",
        "outputId": "0ab84ec2-663e-4697-ceb0-09a1b9f4b54e"
      },
      "execution_count": 10,
      "outputs": [
        {
          "output_type": "execute_result",
          "data": {
            "text/plain": [
              "instant           0\n",
              "season            0\n",
              "yr             8645\n",
              "mnth              0\n",
              "hr              726\n",
              "holiday       16879\n",
              "weekday        2502\n",
              "workingday     5514\n",
              "weathersit        0\n",
              "temp              0\n",
              "atemp             2\n",
              "hum              22\n",
              "windspeed         0\n",
              "casual         1581\n",
              "registered       24\n",
              "cnt               0\n",
              "dtype: int64"
            ]
          },
          "metadata": {},
          "execution_count": 10
        }
      ]
    },
    {
      "cell_type": "code",
      "source": [
        "raw_data['windspeed'].isnull().sum()"
      ],
      "metadata": {
        "colab": {
          "base_uri": "https://localhost:8080/"
        },
        "id": "SfI_AzONQZ1S",
        "outputId": "1106e000-14b1-4ff9-9bd8-40c5cf4e6658"
      },
      "execution_count": 11,
      "outputs": [
        {
          "output_type": "execute_result",
          "data": {
            "text/plain": [
              "2180"
            ]
          },
          "metadata": {},
          "execution_count": 11
        }
      ]
    },
    {
      "cell_type": "markdown",
      "source": [
        "Let's now fill NaN with interpolate. Interpolate is using fill NaN value for time series data."
      ],
      "metadata": {
        "id": "vcRufwPdSbNF"
      }
    },
    {
      "cell_type": "code",
      "source": [
        "raw_data['windspeed'].fillna(method='bfill',inplace=True)\n",
        "raw_data['windspeed'] = raw_data['windspeed'].interpolate()"
      ],
      "metadata": {
        "id": "Wgoq7iW_QZyz"
      },
      "execution_count": 12,
      "outputs": []
    },
    {
      "cell_type": "code",
      "source": [
        "raw_data['windspeed'].isnull().sum()"
      ],
      "metadata": {
        "colab": {
          "base_uri": "https://localhost:8080/"
        },
        "id": "RtYGFadDQZv6",
        "outputId": "07580a3e-81a2-4a11-f4ec-0b658ec718cc"
      },
      "execution_count": 13,
      "outputs": [
        {
          "output_type": "execute_result",
          "data": {
            "text/plain": [
              "0"
            ]
          },
          "metadata": {},
          "execution_count": 13
        }
      ]
    },
    {
      "cell_type": "markdown",
      "source": [
        "# **ML Model Training and Prediction**"
      ],
      "metadata": {
        "id": "6A-ZdnDSS0Ql"
      }
    },
    {
      "cell_type": "code",
      "source": [
        "target = 'cnt'\n",
        "prediction = 'prediction'\n",
        "numerical_features = ['temp', 'atemp', 'hum', 'windspeed', 'hr', 'weekday', 'weathersit']\n",
        "categorical_features = ['season', 'holiday', 'workingday']"
      ],
      "metadata": {
        "id": "LkYgSNxuMSXJ"
      },
      "execution_count": 14,
      "outputs": []
    },
    {
      "cell_type": "code",
      "source": [
        "reference = raw_data.loc['2011-01-01 00:00:00':'2012-08-31 23:00:00'] # Training Model On 19 Months Of Data\n",
        "current = raw_data.loc['2012-09-01 00:00:00':'2012-12-31 23:00:00']   # Vaidation Model on 3 Months of Data (Sep'12, Oct'12 and Nov'12)\n",
        "# test = raw_data.loc['2012-12-01 00:00:00':'2012-12-31 23:00:00']   # Testing Model on Dec'12 Data"
      ],
      "metadata": {
        "id": "Cg1rKe42MSUg"
      },
      "execution_count": 15,
      "outputs": []
    },
    {
      "cell_type": "code",
      "source": [
        "print(\"Reference Data Info Print\",reference.info())\n",
        "print('#'* 100)\n",
        "print(\"Current Data Info Print\",current.info())"
      ],
      "metadata": {
        "id": "gyYx7waCOu4y"
      },
      "execution_count": null,
      "outputs": []
    },
    {
      "cell_type": "code",
      "source": [
        "# regressor = ensemble.RandomForestRegressor(random_state = 0, n_estimators = 100, max_depth=5, max_features=\"log2\" )\n",
        "regressor = ensemble.RandomForestRegressor(random_state = 0, n_estimators = 50)\n",
        "model = regressor.fit(reference[numerical_features + categorical_features], reference[target])"
      ],
      "metadata": {
        "id": "ZQAR0L2EMSR-"
      },
      "execution_count": 16,
      "outputs": []
    },
    {
      "cell_type": "code",
      "source": [
        "ref_prediction = model.predict(reference[numerical_features + categorical_features])\n",
        "current_prediction = model.predict(current[numerical_features + categorical_features])\n",
        "# test_prediction = model.predict(test[numerical_features + categorical_features])\n",
        "reference['prediction'] = ref_prediction\n",
        "current['prediction'] = current_prediction\n",
        "# test['prediction'] = test_prediction"
      ],
      "metadata": {
        "id": "COez3s8kMSPa"
      },
      "execution_count": 17,
      "outputs": []
    },
    {
      "cell_type": "code",
      "source": [
        "from google.colab import files\n",
        "import pickle\n",
        "# pickle.dump(model, open('RFRegressorModel.pkl','wb'))\n",
        "pickle.dump(model, open('/content/drive/MyDrive/MLOps_Training/RFRegressorModel.pkl','wb'))\n",
        "# files.download(f'/content/drive/MyDrive/MLOps_Training/RFRegressorModel.pkl')"
      ],
      "metadata": {
        "id": "5Dkj8nYfzMTD"
      },
      "execution_count": 18,
      "outputs": []
    },
    {
      "cell_type": "code",
      "source": [
        "reference.head()"
      ],
      "metadata": {
        "id": "W6lkCR9vgoia"
      },
      "execution_count": null,
      "outputs": []
    },
    {
      "cell_type": "code",
      "source": [
        "current.head()"
      ],
      "metadata": {
        "id": "IvYlN3hwMSKK"
      },
      "execution_count": null,
      "outputs": []
    },
    {
      "cell_type": "code",
      "source": [
        "column_mapping = ColumnMapping()\n",
        "column_mapping.target = target\n",
        "column_mapping.prediction = prediction\n",
        "column_mapping.numerical_features = numerical_features\n",
        "column_mapping.categorical_features = categorical_features"
      ],
      "metadata": {
        "id": "xPwL-Jx1MSHd"
      },
      "execution_count": 19,
      "outputs": []
    },
    {
      "cell_type": "code",
      "source": [
        "column_mapping"
      ],
      "metadata": {
        "colab": {
          "base_uri": "https://localhost:8080/"
        },
        "id": "o6AkjbuIPJlT",
        "outputId": "1c0cd44e-5cbb-4df0-d4e2-b6a8198a9917"
      },
      "execution_count": null,
      "outputs": [
        {
          "output_type": "execute_result",
          "data": {
            "text/plain": [
              "ColumnMapping(target='cnt', prediction='prediction', datetime='datetime', id=None, numerical_features=['temp', 'atemp', 'hum', 'windspeed', 'hr', 'weekday'], categorical_features=['season', 'holiday', 'workingday'], target_names=None)"
            ]
          },
          "metadata": {},
          "execution_count": 41
        }
      ]
    },
    {
      "cell_type": "code",
      "source": [
        "type(column_mapping)"
      ],
      "metadata": {
        "colab": {
          "base_uri": "https://localhost:8080/"
        },
        "id": "-7mXe-8EyGcT",
        "outputId": "162c3ca5-6012-4da6-d738-6f1c0501fc86"
      },
      "execution_count": null,
      "outputs": [
        {
          "output_type": "execute_result",
          "data": {
            "text/plain": [
              "evidently.pipeline.column_mapping.ColumnMapping"
            ]
          },
          "metadata": {},
          "execution_count": 56
        }
      ]
    },
    {
      "cell_type": "markdown",
      "source": [
        "# **Regression Model Performance Testing**"
      ],
      "metadata": {
        "id": "T3uZob15BxAt"
      }
    },
    {
      "cell_type": "code",
      "source": [
        "regression_perfomance_dashboard = Dashboard(tabs=[RegressionPerformanceTab()])\n",
        "regression_perfomance_dashboard.calculate(reference, None, column_mapping=column_mapping)\n",
        "regression_perfomance_dashboard.show()\n",
        "# regression_perfomance_dashboard.save('/content/drive/My Drive//regression_performance_at_training.html')"
      ],
      "metadata": {
        "id": "yYwmKPi5PJjH"
      },
      "execution_count": 31,
      "outputs": []
    },
    {
      "cell_type": "markdown",
      "source": [
        "# **Regression Model Performance Testing Between Train and Test Data**"
      ],
      "metadata": {
        "id": "SMmd8k78B1UP"
      }
    },
    {
      "cell_type": "code",
      "source": [
        "regression_perfomance_dashboard = Dashboard(tabs=[RegressionPerformanceTab()])\n",
        "regression_perfomance_dashboard.calculate(reference, current, column_mapping=column_mapping)\n",
        "regression_perfomance_dashboard.show()\n",
        "# regression_perfomance_dashboard.save('/content/drive/My Drive//regression_performance_train_vs_test.html')"
      ],
      "metadata": {
        "id": "N5uOOPe4PJeF"
      },
      "execution_count": 32,
      "outputs": []
    },
    {
      "cell_type": "markdown",
      "source": [
        "# **Week 1 - DRIFT detection for data, target and prediction**"
      ],
      "metadata": {
        "id": "8lTXKeCwVJmC"
      }
    },
    {
      "cell_type": "code",
      "source": [
        "regression_perfomance_dashboard.calculate(reference,\n",
        "                                          current.loc['2012-12-01 00:00:00':'2012-12-07 23:00:00'],\n",
        "                                          column_mapping=column_mapping)\n",
        "regression_perfomance_dashboard.show()\n",
        "#regression_perfomance_dashboard.save('reports/regression_performance_after_week1.html')"
      ],
      "metadata": {
        "id": "iJaOY4rBPJWW"
      },
      "execution_count": 35,
      "outputs": []
    },
    {
      "cell_type": "code",
      "source": [
        "target_drift_dashboard = Dashboard(tabs=[NumTargetDriftTab()])\n",
        "target_drift_dashboard.calculate(reference, \n",
        "                                 current.loc['2012-12-01 00:00:00':'2012-12-07 23:00:00'],\n",
        "                                 column_mapping=column_mapping)\n",
        "target_drift_dashboard.show()\n",
        "#target_drift_dashboard.save('reports/target_drift_after_week1.html')"
      ],
      "metadata": {
        "id": "SWAzlLBnPIpw"
      },
      "execution_count": 36,
      "outputs": []
    },
    {
      "cell_type": "code",
      "source": [
        "column_mapping = ColumnMapping()\n",
        "column_mapping.numerical_features = numerical_features\n",
        "column_mapping.categorical_features = categorical_features\n",
        "\n",
        "data_drift_dashboard = Dashboard(tabs=[DataDriftTab()])\n",
        "data_drift_dashboard.calculate(reference, \n",
        "                               current.loc['2012-12-01 00:00:00':'2012-12-07 23:00:00'],\n",
        "                               column_mapping=column_mapping)\n",
        "data_drift_dashboard.show()\n",
        "# data_drift_dashboard.save(\"reports/data_drift_dashboard_after_week1.html\")"
      ],
      "metadata": {
        "id": "GLcj3fMxUnoA"
      },
      "execution_count": 38,
      "outputs": []
    },
    {
      "cell_type": "markdown",
      "source": [
        "# **Loading pickle file and testing on new data and analysing model performance**"
      ],
      "metadata": {
        "id": "o46WEP99DE-w"
      }
    },
    {
      "cell_type": "code",
      "source": [
        "# Loading model to compare the results\n",
        "loadedmodel = pickle.load(open('/content/drive/MyDrive/MLOps_Training/RFRegressorModel.pkl','rb'))\n",
        "\n",
        "# prevmnthdata = raw_data.loc['2012-11-01 00:00:00':'2012-11-30 23:00:00']   # Testing Model on Dec'12 Data\n",
        "test = raw_data.loc['2012-12-01 00:00:00':'2012-12-31 23:00:00']   # Testing Model on Dec'12 Data\n",
        "test_prediction = loadedmodel.predict(test[numerical_features + categorical_features])\n",
        "test['prediction'] = test_prediction\n",
        "\n",
        "column_mapping = ColumnMapping()\n",
        "column_mapping.target = target\n",
        "column_mapping.prediction = prediction\n",
        "column_mapping.numerical_features = numerical_features\n",
        "column_mapping.categorical_features = categorical_features\n",
        "\n",
        "regression_perfomance_dashboard = Dashboard(tabs=[RegressionPerformanceTab()])\n",
        "regression_perfomance_dashboard.calculate(reference, test, column_mapping=column_mapping)\n",
        "regression_perfomance_dashboard.show()"
      ],
      "metadata": {
        "id": "oPk7X1M0z6rF"
      },
      "execution_count": 42,
      "outputs": []
    },
    {
      "cell_type": "markdown",
      "source": [
        "# **Evidently Integration With MLFlow**"
      ],
      "metadata": {
        "id": "8f1_L-qU_LM5"
      }
    },
    {
      "cell_type": "markdown",
      "source": [
        "https://github.com/evidentlyai/evidently/blob/main/evidently/tutorials/mlflow_integration.ipynb"
      ],
      "metadata": {
        "id": "rZlae5YvScIt"
      }
    },
    {
      "cell_type": "code",
      "source": [
        "import warnings\n",
        "warnings.filterwarnings('ignore')\n",
        "warnings.simplefilter('ignore')\n",
        "\n",
        "import mlflow\n",
        "import mlflow.sklearn\n",
        "from mlflow.tracking import MlflowClient\n",
        "\n",
        "import plotly.offline as py #working offline\n",
        "import plotly.graph_objs as go"
      ],
      "metadata": {
        "id": "81nqri5HQ3eK"
      },
      "execution_count": 20,
      "outputs": []
    },
    {
      "cell_type": "code",
      "source": [
        "#set reference dates\n",
        "reference_dates = ('2011-01-01 00:00:00','2011-01-28 23:00:00')\n",
        "\n",
        "#set experiment batches dates\n",
        "experiment_batches = [\n",
        "    ('2011-01-01 00:00:00','2011-01-29 23:00:00'),\n",
        "    ('2011-01-29 00:00:00','2011-02-07 23:00:00'),\n",
        "    ('2011-02-07 00:00:00','2011-02-14 23:00:00'),\n",
        "    ('2011-02-15 00:00:00','2011-02-21 23:00:00'),  \n",
        "]"
      ],
      "metadata": {
        "id": "-eajQ7eXSJ_D"
      },
      "execution_count": 21,
      "outputs": []
    },
    {
      "cell_type": "code",
      "source": [
        "#set column mapping for Evidently Profile\n",
        "target = 'cnt'\n",
        "prediction = 'prediction'\n",
        "numerical_features = ['temp', 'atemp', 'hum', 'windspeed', 'hr', 'weekday', 'weathersit']\n",
        "categorical_features = ['season', 'holiday', 'workingday']\n",
        "\n",
        "#set column mapping for Evidently Profile\n",
        "data_columns = ColumnMapping()\n",
        "data_columns.target = target\n",
        "data_columns.prediction = prediction\n",
        "data_columns.numerical_features = numerical_features\n",
        "data_columns.categorical_features = categorical_features"
      ],
      "metadata": {
        "id": "XnU1FV8wh-KM"
      },
      "execution_count": 29,
      "outputs": []
    },
    {
      "cell_type": "code",
      "source": [
        "#evaluate data drift with Evidently Profile\n",
        "def eval_drift(reference, production, column_mapping):\n",
        "    data_drift_profile = Profile(sections=[DataDriftProfileSection()])\n",
        "    data_drift_profile.calculate(reference, production, column_mapping=column_mapping)\n",
        "    report = data_drift_profile.json()\n",
        "    json_report = json.loads(report)\n",
        "    drifts = []\n",
        "    num_features = column_mapping.numerical_features if column_mapping.numerical_features else []\n",
        "    cat_features = column_mapping.categorical_features if column_mapping.categorical_features else []\n",
        "    for feature in column_mapping.numerical_features + column_mapping.categorical_features:\n",
        "        drifts.append((feature, json_report['data_drift']['data']['metrics'][feature]['p_value']))\n",
        "    return drifts"
      ],
      "metadata": {
        "id": "SLAv6nPIQ3YY"
      },
      "execution_count": 30,
      "outputs": []
    },
    {
      "cell_type": "code",
      "source": [
        "#evaluate data drift with Evidently Profile\n",
        "def model_drift(reference, production, column_mapping):\n",
        "    data_drift_profile = Profile(sections=[RegressionPerformanceProfileSection()])\n",
        "    data_drift_profile.calculate(reference, production, column_mapping=column_mapping)\n",
        "    report = data_drift_profile.json()\n",
        "    json_report = json.loads(report)\n",
        "    drifts = []\n",
        "    num_features = column_mapping.numerical_features if column_mapping.numerical_features else []\n",
        "    cat_features = column_mapping.categorical_features if column_mapping.categorical_features else []\n",
        "    for feature in column_mapping.numerical_features + column_mapping.categorical_features:\n",
        "        drifts.append((feature, json_report['num_target_drift']['data']['metrics'][feature]['p_value']))\n",
        "    return drifts"
      ],
      "metadata": {
        "id": "n_Imee5thF6r"
      },
      "execution_count": 44,
      "outputs": []
    },
    {
      "cell_type": "code",
      "source": [
        "rawdata = raw_data.loc['2011-01-01 00:00:00':'2012-08-31 23:00:00'] \n",
        "rawdata['prediction'] = ref_prediction\n",
        "rawdata.head()"
      ],
      "metadata": {
        "id": "gVj9YxOwOOSg"
      },
      "execution_count": null,
      "outputs": []
    },
    {
      "cell_type": "code",
      "source": [
        "#log into MLflow\n",
        "client = MlflowClient()\n",
        "\n",
        "#set experiment\n",
        "mlflow.set_experiment('Data Drift Evaluation With Evidently')\n",
        "\n",
        "#start new run\n",
        "for date in experiment_batches:\n",
        "    with mlflow.start_run() as run: #inside brackets run_name='test'\n",
        "        \n",
        "        # Log parameters\n",
        "        mlflow.log_param(\"begin\", date[0])\n",
        "        mlflow.log_param(\"end\", date[1])\n",
        "\n",
        "        # Log metrics\n",
        "        metrics = eval_drift(rawdata.loc[reference_dates[0]:reference_dates[1]], \n",
        "                             rawdata.loc[date[0]:date[1]], \n",
        "                             column_mapping=data_columns)\n",
        "        print(metrics)\n",
        "        for feature in metrics:\n",
        "            mlflow.log_metric(feature[0], round(feature[1], 4))\n",
        "        print(run.info)"
      ],
      "metadata": {
        "colab": {
          "base_uri": "https://localhost:8080/"
        },
        "id": "fFmjdev6SJ8o",
        "outputId": "3aaebdd1-d60e-49d8-b39d-1dcbdd9a9b44"
      },
      "execution_count": 32,
      "outputs": [
        {
          "output_type": "stream",
          "name": "stdout",
          "text": [
            "[('temp', 1.0), ('atemp', 0.9999999988359357), ('hum', 0.9996677817727767), ('windspeed', 0.9999999994169597), ('hr', 1.0), ('weekday', 0.9214371968373181), ('weathersit', 1.0), ('season', 1.0), ('holiday', 1.0), ('workingday', 0.9926716659661657)]\n",
            "<RunInfo: artifact_uri='file:///content/mlruns/1/a0949a4135e1454cb2d8a6d9b9c34dc3/artifacts', end_time=None, experiment_id='1', lifecycle_stage='active', run_id='a0949a4135e1454cb2d8a6d9b9c34dc3', run_uuid='a0949a4135e1454cb2d8a6d9b9c34dc3', start_time=1641728577442, status='RUNNING', user_id='root'>\n",
            "[('temp', 7.029098509914178e-06), ('atemp', 2.1094237467877974e-14), ('hum', 2.220446049250313e-16), ('windspeed', 1.279412742416497e-08), ('hr', 0.9999950814260455), ('weekday', 0.05445577176978533), ('weathersit', 0.055343014846846006), ('season', 1.0), ('holiday', 0.9483221193319364), ('workingday', 0.6487481881463268)]\n",
            "<RunInfo: artifact_uri='file:///content/mlruns/1/b3544b40de2442e28efbccb9d8a587f2/artifacts', end_time=None, experiment_id='1', lifecycle_stage='active', run_id='b3544b40de2442e28efbccb9d8a587f2', run_uuid='b3544b40de2442e28efbccb9d8a587f2', start_time=1641728577541, status='RUNNING', user_id='root'>\n",
            "[('temp', 2.616650351949801e-07), ('atemp', 5.243208475169681e-07), ('hum', 2.0748238604983982e-07), ('windspeed', 0.004542536177195244), ('hr', 0.999999999999998), ('weekday', 0.33995563875294044), ('weathersit', 0.000594800884031077), ('season', 1.0), ('holiday', 0.9747426922721852), ('workingday', 0.15224813494355116)]\n",
            "<RunInfo: artifact_uri='file:///content/mlruns/1/f0c98fb94b7c4cefae24edc9fd78d547/artifacts', end_time=None, experiment_id='1', lifecycle_stage='active', run_id='f0c98fb94b7c4cefae24edc9fd78d547', run_uuid='f0c98fb94b7c4cefae24edc9fd78d547', start_time=1641728577658, status='RUNNING', user_id='root'>\n",
            "[('temp', 4.659592247883915e-52), ('atemp', 9.901791289524957e-44), ('hum', 1.7763568394002505e-15), ('windspeed', 2.4310415680517394e-08), ('hr', 0.9999999992689736), ('weekday', 0.9999999999438246), ('weathersit', 0.04942115706558303), ('season', 1.0), ('holiday', 0.09516286284294462), ('workingday', 0.2762832505626769)]\n",
            "<RunInfo: artifact_uri='file:///content/mlruns/1/4fc8f30d878d4f539119e5c5b5fd3c4b/artifacts', end_time=None, experiment_id='1', lifecycle_stage='active', run_id='4fc8f30d878d4f539119e5c5b5fd3c4b', run_uuid='4fc8f30d878d4f539119e5c5b5fd3c4b', start_time=1641728577772, status='RUNNING', user_id='root'>\n"
          ]
        }
      ]
    },
    {
      "cell_type": "code",
      "source": [
        "#run MLflow UI (it will be more convinient to run it directly from the terminal)\n",
        "!mlflow ui"
      ],
      "metadata": {
        "id": "kV0CNci7SJ6b",
        "colab": {
          "base_uri": "https://localhost:8080/"
        },
        "outputId": "84f59373-ac49-42c8-c41a-61dcd66edc6a"
      },
      "execution_count": 34,
      "outputs": [
        {
          "output_type": "stream",
          "name": "stdout",
          "text": [
            "[2022-01-09 11:43:12 +0000] [447] [INFO] Starting gunicorn 20.1.0\n",
            "[2022-01-09 11:43:12 +0000] [447] [INFO] Listening at: http://127.0.0.1:5000 (447)\n",
            "[2022-01-09 11:43:12 +0000] [447] [INFO] Using worker: sync\n",
            "[2022-01-09 11:43:12 +0000] [450] [INFO] Booting worker with pid: 450\n",
            "[2022-01-09 11:43:14 +0000] [447] [INFO] Handling signal: int\n",
            "\n",
            "Aborted!\n",
            "[2022-01-09 11:43:14 +0000] [450] [INFO] Worker exiting (pid: 450)\n",
            "[2022-01-09 11:43:14 +0000] [447] [INFO] Shutting down: Master\n"
          ]
        }
      ]
    },
    {
      "cell_type": "code",
      "source": [
        "with mlflow.start_run(run_name=\"Evidently and MLflow - Data Drift Demo From Colab\"):\n",
        "  mlflow.log_metric(\"m1\", 2.0)\n",
        "  mlflow.log_param(\"p1\", \"evidently-mlflow-colab\")\n",
        "\n",
        "# run tracking UI in the background\n",
        "get_ipython().system_raw(\"mlflow ui --port 5000 &\") # run tracking UI in the background\n",
        "\n",
        "# create remote tunnel using ngrok.com to allow local port access\n",
        "# borrowed from https://colab.research.google.com/github/alfozan/MLflow-GBRT-demo/blob/master/MLflow-GBRT-demo.ipynb#scrollTo=4h3bKHMYUIG6\n",
        "\n",
        "from pyngrok import ngrok\n",
        "\n",
        "# Terminate open tunnels if exist\n",
        "ngrok.kill()\n",
        "\n",
        "# Setting the authtoken (optional)\n",
        "# Get your authtoken from https://dashboard.ngrok.com/auth\n",
        "NGROK_AUTH_TOKEN = \"22unZF1cg5sUIVx8Il335I0pLFx_3gzoz22PLKUtXPX3zx4A3\"\n",
        "ngrok.set_auth_token(NGROK_AUTH_TOKEN)\n",
        "\n",
        "# Open an HTTPs tunnel on port 5000 for http://localhost:5000\n",
        "ngrok_tunnel = ngrok.connect(addr=\"5000\", proto=\"http\", bind_tls=True)\n",
        "\n",
        "print(\"MLflow Tracking UI:\", ngrok_tunnel.public_url) "
      ],
      "metadata": {
        "id": "3F97d6hdSJ09",
        "colab": {
          "base_uri": "https://localhost:8080/"
        },
        "outputId": "34b56e2f-7ffd-4228-e611-890f0bc3b2a8"
      },
      "execution_count": 35,
      "outputs": [
        {
          "output_type": "stream",
          "name": "stdout",
          "text": [
            "MLflow Tracking UI: https://eddd-35-204-158-86.ngrok.io\n"
          ]
        }
      ]
    },
    {
      "cell_type": "code",
      "source": [
        ""
      ],
      "metadata": {
        "id": "Q05Ys9_y2nMX"
      },
      "execution_count": null,
      "outputs": []
    },
    {
      "cell_type": "code",
      "source": [
        ""
      ],
      "metadata": {
        "id": "jU-61RWg2nJP"
      },
      "execution_count": null,
      "outputs": []
    },
    {
      "cell_type": "code",
      "source": [
        ""
      ],
      "metadata": {
        "id": "wDHWZXX22nGk"
      },
      "execution_count": null,
      "outputs": []
    },
    {
      "cell_type": "code",
      "source": [
        ""
      ],
      "metadata": {
        "id": "tqoLigvf2nDp"
      },
      "execution_count": null,
      "outputs": []
    },
    {
      "cell_type": "code",
      "source": [
        ""
      ],
      "metadata": {
        "id": "xskZ0IeB2m-d"
      },
      "execution_count": null,
      "outputs": []
    }
  ]
}